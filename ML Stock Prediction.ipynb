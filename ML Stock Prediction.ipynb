{
 "cells": [
  {
   "cell_type": "code",
   "execution_count": 30,
   "metadata": {},
   "outputs": [],
   "source": [
    "import quandl\n",
    "import pandas as pd\n",
    "import numpy as np\n",
    "import matplotlib.pyplot as plt\n",
    "import datetime\n",
    "\n",
    "from sklearn.model_selection import train_test_split\n",
    "from sklearn import preprocessing\n",
    "from sklearn.linear_model import LinearRegression\n"
   ]
  },
  {
   "cell_type": "code",
   "execution_count": null,
   "metadata": {},
   "outputs": [],
   "source": [
    "quandl.ApiConfig.api_key = 'LMQHbmGJsqHS-xH6wRvB'\n",
    "\n",
    "\n",
    "df = quandl.get(\"WIKI/AAPL\")\n",
    "df = df[[\"Adj. Close\"]]\n",
    "df"
   ]
  },
  {
   "cell_type": "code",
   "execution_count": null,
   "metadata": {},
   "outputs": [],
   "source": [
    "df[\"Adj. Close\"].plot(figsize=(15,6), color = 'g')\n",
    "plt.legend(loc = 'upper left')\n",
    "plt.show"
   ]
  },
  {
   "cell_type": "code",
   "execution_count": 23,
   "metadata": {},
   "outputs": [],
   "source": [
    "forecast = 30\n",
    "df['Prediction'] = df[['Adj. Close']].shift(-forecast)\n",
    "\n",
    "X = np.array(df.drop(['Prediction'], 1))\n",
    "X = preprocessing.scale(X)\n",
    "\n",
    "\n",
    "X_forecast = X[-forecast:]\n",
    "X = X[:-forecast]\n",
    "\n",
    "y = np.array(df['Prediction'])\n",
    "y = y[:-forecast]"
   ]
  },
  {
   "cell_type": "code",
   "execution_count": 29,
   "metadata": {},
   "outputs": [
    {
     "name": "stdout",
     "output_type": "stream",
     "text": [
      "0.9866371835967536\n",
      "[1499.34386097 1538.16220246 1549.53999221 1535.65505178 1556.54089179\n",
      " 1572.01936019 1573.97408784 1590.16433208 1613.48295813 1602.89130885\n",
      " 1603.39061428 1583.20592659 1590.42992008 1615.24646242 1630.15126076\n",
      " 1637.97017136 1645.25790597 1673.9732801  1694.68914379 1683.84253003\n",
      " 1686.83836263 1677.61714741 1666.3137223  1637.89580672 1682.06840222\n",
      " 1677.12846549 1637.01405458 1585.44748927 1649.50731391 1587.03039373]\n"
     ]
    }
   ],
   "source": [
    "X_train, X_test, y_train, y_test = train_test_split(X, y, test_size = 0.2)\n",
    "\n",
    "clf = LinearRegression()\n",
    "clf.fit(X_train, y_train)\n",
    "\n",
    "confidence = clf.score(X_test, y_test)\n",
    "print(confidence)\n",
    "\n",
    "forecast_predicted = clf.predict(X_forecast)\n",
    "print(forecast_predicted)"
   ]
  },
  {
   "cell_type": "code",
   "execution_count": 28,
   "metadata": {},
   "outputs": [
    {
     "data": {
      "text/plain": [
       "(736445.0, 737192.5)"
      ]
     },
     "execution_count": 28,
     "metadata": {},
     "output_type": "execute_result"
    },
    {
     "data": {
      "image/png": "[encoded data removed]",
      "text/plain": [
       "<Figure size 432x288 with 1 Axes>"
      ]
     },
     "metadata": {
      "needs_background": "light"
     },
     "output_type": "display_data"
    }
   ],
   "source": [
    "dates = pd.date_range(start = \"2018-03-28\", end = \"2018-04-26\")\n",
    "plt.plot(dates, forecast_predicted, color = 'y')\n",
    "df['Adj. Close'].plot(color = 'g')\n",
    "\n",
    "plt.xlim(xmin = datetime.date(2017,4,26))"
   ]
  },
  {
   "cell_type": "code",
   "execution_count": null,
   "metadata": {},
   "outputs": [],
   "source": []
  }
 ],
 "metadata": {
  "kernelspec": {
   "display_name": "Python 3",
   "language": "python",
   "name": "python3"
  },
  "language_info": {
   "codemirror_mode": {
    "name": "ipython",
    "version": 3
   },
   "file_extension": ".py",
   "mimetype": "text/x-python",
   "name": "python",
   "nbconvert_exporter": "python",
   "pygments_lexer": "ipython3",
   "version": "3.8.3"
  }
 },
 "nbformat": 4,
 "nbformat_minor": 4
}
